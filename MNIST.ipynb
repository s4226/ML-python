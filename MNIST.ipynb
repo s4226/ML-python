{
  "nbformat": 4,
  "nbformat_minor": 0,
  "metadata": {
    "colab": {
      "name": "MNIST.ipynb",
      "provenance": [],
      "authorship_tag": "ABX9TyNlELdRyDS9ne9zJwigve8o",
      "include_colab_link": true
    },
    "kernelspec": {
      "name": "python3",
      "display_name": "Python 3"
    }
  },
  "cells": [
    {
      "cell_type": "markdown",
      "metadata": {
        "id": "view-in-github",
        "colab_type": "text"
      },
      "source": [
        "<a href=\"https://colab.research.google.com/github/s4226/ML-python/blob/main/MNIST.ipynb\" target=\"_parent\"><img src=\"https://colab.research.google.com/assets/colab-badge.svg\" alt=\"Open In Colab\"/></a>"
      ]
    },
    {
      "cell_type": "code",
      "metadata": {
        "id": "FakcrRqvTrpW"
      },
      "source": [
        "# mnist 手寫數字辨識資料集\r\n",
        "from keras.datasets import mnist\r\n",
        "\r\n",
        "(x_train, y_train), (x_test, y_test) = mnist.load_data()"
      ],
      "execution_count": 7,
      "outputs": []
    },
    {
      "cell_type": "code",
      "metadata": {
        "colab": {
          "base_uri": "https://localhost:8080/"
        },
        "id": "zcEZ9A97UCFW",
        "outputId": "60f3758f-dc16-40a9-f4fd-08589935d1c6"
      },
      "source": [
        "print('train data', len(x_train))\r\n",
        "print('test data', len(x_test))"
      ],
      "execution_count": 8,
      "outputs": [
        {
          "output_type": "stream",
          "text": [
            "train data 60000\n",
            "test data 10000\n"
          ],
          "name": "stdout"
        }
      ]
    },
    {
      "cell_type": "code",
      "metadata": {
        "colab": {
          "base_uri": "https://localhost:8080/"
        },
        "id": "C9AfkUuvUFGW",
        "outputId": "5adbaa30-e4d2-478c-bb6a-ea6c36477555"
      },
      "source": [
        "# 每張相素為28*28\r\n",
        "print('x_train:',x_train.shape)\r\n",
        "print('y_train:',y_train.shape)"
      ],
      "execution_count": 9,
      "outputs": [
        {
          "output_type": "stream",
          "text": [
            "x_train: (60000, 28, 28)\n",
            "y_train: (60000,)\n"
          ],
          "name": "stdout"
        }
      ]
    },
    {
      "cell_type": "code",
      "metadata": {
        "id": "8WsfMN3CUIPe"
      },
      "source": [
        "import matplotlib.pyplot as plt\r\n",
        "def plot_image(image):\r\n",
        "  fig = plt.gcf()\r\n",
        "  fig.set_size_inches(2,2)\r\n",
        "  plt.imshow(image, cmap='binary')\r\n",
        "  plt.show()"
      ],
      "execution_count": 10,
      "outputs": []
    },
    {
      "cell_type": "code",
      "metadata": {
        "colab": {
          "base_uri": "https://localhost:8080/",
          "height": 159
        },
        "id": "M6wkgZjfUMSM",
        "outputId": "d9c3e725-37e2-4fff-eeb8-4f624c8d4484"
      },
      "source": [
        "plot_image(x_train[0])"
      ],
      "execution_count": 11,
      "outputs": [
        {
          "output_type": "display_data",
          "data": {
            "image/png": "[encoded data removed]",
            "text/plain": [
              "<Figure size 144x144 with 1 Axes>"
            ]
          },
          "metadata": {
            "tags": [],
            "needs_background": "light"
          }
        }
      ]
    },
    {
      "cell_type": "code",
      "metadata": {
        "id": "Wk4QuHKjUPzt"
      },
      "source": [
        "# reshape 重新改變維度 astype 改變資料類型\r\n",
        "x_train= x_train.reshape(60000,784).astype('float32')\r\n",
        "x_test= x_test.reshape(10000,784).astype('float32')"
      ],
      "execution_count": 12,
      "outputs": []
    },
    {
      "cell_type": "code",
      "metadata": {
        "colab": {
          "base_uri": "https://localhost:8080/"
        },
        "id": "JFnnZ9SLUSWl",
        "outputId": "688ae520-d9f1-41dd-dfff-a5c7afa22821"
      },
      "source": [
        "print(x_train[0])"
      ],
      "execution_count": 13,
      "outputs": [
        {
          "output_type": "stream",
          "text": [
            "[  0.   0.   0.   0.   0.   0.   0.   0.   0.   0.   0.   0.   0.   0.\n",
            "   0.   0.   0.   0.   0.   0.   0.   0.   0.   0.   0.   0.   0.   0.\n",
            "   0.   0.   0.   0.   0.   0.   0.   0.   0.   0.   0.   0.   0.   0.\n",
            "   0.   0.   0.   0.   0.   0.   0.   0.   0.   0.   0.   0.   0.   0.\n",
            "   0.   0.   0.   0.   0.   0.   0.   0.   0.   0.   0.   0.   0.   0.\n",
            "   0.   0.   0.   0.   0.   0.   0.   0.   0.   0.   0.   0.   0.   0.\n",
            "   0.   0.   0.   0.   0.   0.   0.   0.   0.   0.   0.   0.   0.   0.\n",
            "   0.   0.   0.   0.   0.   0.   0.   0.   0.   0.   0.   0.   0.   0.\n",
            "   0.   0.   0.   0.   0.   0.   0.   0.   0.   0.   0.   0.   0.   0.\n",
            "   0.   0.   0.   0.   0.   0.   0.   0.   0.   0.   0.   0.   0.   0.\n",
            "   0.   0.   0.   0.   0.   0.   0.   0.   0.   0.   0.   0.   3.  18.\n",
            "  18.  18. 126. 136. 175.  26. 166. 255. 247. 127.   0.   0.   0.   0.\n",
            "   0.   0.   0.   0.   0.   0.   0.   0.  30.  36.  94. 154. 170. 253.\n",
            " 253. 253. 253. 253. 225. 172. 253. 242. 195.  64.   0.   0.   0.   0.\n",
            "   0.   0.   0.   0.   0.   0.   0.  49. 238. 253. 253. 253. 253. 253.\n",
            " 253. 253. 253. 251.  93.  82.  82.  56.  39.   0.   0.   0.   0.   0.\n",
            "   0.   0.   0.   0.   0.   0.   0.  18. 219. 253. 253. 253. 253. 253.\n",
            " 198. 182. 247. 241.   0.   0.   0.   0.   0.   0.   0.   0.   0.   0.\n",
            "   0.   0.   0.   0.   0.   0.   0.   0.  80. 156. 107. 253. 253. 205.\n",
            "  11.   0.  43. 154.   0.   0.   0.   0.   0.   0.   0.   0.   0.   0.\n",
            "   0.   0.   0.   0.   0.   0.   0.   0.   0.  14.   1. 154. 253.  90.\n",
            "   0.   0.   0.   0.   0.   0.   0.   0.   0.   0.   0.   0.   0.   0.\n",
            "   0.   0.   0.   0.   0.   0.   0.   0.   0.   0.   0. 139. 253. 190.\n",
            "   2.   0.   0.   0.   0.   0.   0.   0.   0.   0.   0.   0.   0.   0.\n",
            "   0.   0.   0.   0.   0.   0.   0.   0.   0.   0.   0.  11. 190. 253.\n",
            "  70.   0.   0.   0.   0.   0.   0.   0.   0.   0.   0.   0.   0.   0.\n",
            "   0.   0.   0.   0.   0.   0.   0.   0.   0.   0.   0.   0.  35. 241.\n",
            " 225. 160. 108.   1.   0.   0.   0.   0.   0.   0.   0.   0.   0.   0.\n",
            "   0.   0.   0.   0.   0.   0.   0.   0.   0.   0.   0.   0.   0.  81.\n",
            " 240. 253. 253. 119.  25.   0.   0.   0.   0.   0.   0.   0.   0.   0.\n",
            "   0.   0.   0.   0.   0.   0.   0.   0.   0.   0.   0.   0.   0.   0.\n",
            "  45. 186. 253. 253. 150.  27.   0.   0.   0.   0.   0.   0.   0.   0.\n",
            "   0.   0.   0.   0.   0.   0.   0.   0.   0.   0.   0.   0.   0.   0.\n",
            "   0.  16.  93. 252. 253. 187.   0.   0.   0.   0.   0.   0.   0.   0.\n",
            "   0.   0.   0.   0.   0.   0.   0.   0.   0.   0.   0.   0.   0.   0.\n",
            "   0.   0.   0. 249. 253. 249.  64.   0.   0.   0.   0.   0.   0.   0.\n",
            "   0.   0.   0.   0.   0.   0.   0.   0.   0.   0.   0.   0.   0.   0.\n",
            "  46. 130. 183. 253. 253. 207.   2.   0.   0.   0.   0.   0.   0.   0.\n",
            "   0.   0.   0.   0.   0.   0.   0.   0.   0.   0.   0.   0.  39. 148.\n",
            " 229. 253. 253. 253. 250. 182.   0.   0.   0.   0.   0.   0.   0.   0.\n",
            "   0.   0.   0.   0.   0.   0.   0.   0.   0.   0.  24. 114. 221. 253.\n",
            " 253. 253. 253. 201.  78.   0.   0.   0.   0.   0.   0.   0.   0.   0.\n",
            "   0.   0.   0.   0.   0.   0.   0.   0.  23.  66. 213. 253. 253. 253.\n",
            " 253. 198.  81.   2.   0.   0.   0.   0.   0.   0.   0.   0.   0.   0.\n",
            "   0.   0.   0.   0.   0.   0.  18. 171. 219. 253. 253. 253. 253. 195.\n",
            "  80.   9.   0.   0.   0.   0.   0.   0.   0.   0.   0.   0.   0.   0.\n",
            "   0.   0.   0.   0.  55. 172. 226. 253. 253. 253. 253. 244. 133.  11.\n",
            "   0.   0.   0.   0.   0.   0.   0.   0.   0.   0.   0.   0.   0.   0.\n",
            "   0.   0.   0.   0. 136. 253. 253. 253. 212. 135. 132.  16.   0.   0.\n",
            "   0.   0.   0.   0.   0.   0.   0.   0.   0.   0.   0.   0.   0.   0.\n",
            "   0.   0.   0.   0.   0.   0.   0.   0.   0.   0.   0.   0.   0.   0.\n",
            "   0.   0.   0.   0.   0.   0.   0.   0.   0.   0.   0.   0.   0.   0.\n",
            "   0.   0.   0.   0.   0.   0.   0.   0.   0.   0.   0.   0.   0.   0.\n",
            "   0.   0.   0.   0.   0.   0.   0.   0.   0.   0.   0.   0.   0.   0.\n",
            "   0.   0.   0.   0.   0.   0.   0.   0.   0.   0.   0.   0.   0.   0.\n",
            "   0.   0.   0.   0.   0.   0.   0.   0.   0.   0.   0.   0.   0.   0.]\n"
          ],
          "name": "stdout"
        }
      ]
    },
    {
      "cell_type": "code",
      "metadata": {
        "id": "N7TVB3nnUV91"
      },
      "source": [
        "x_train= x_train/255\r\n",
        "x_test= x_test/255"
      ],
      "execution_count": 14,
      "outputs": []
    },
    {
      "cell_type": "code",
      "metadata": {
        "id": "5sNPOM3zUY1O"
      },
      "source": [
        "from keras.utils import np_utils\r\n",
        "# y值轉成 one-hot encoding\r\n",
        "y_train= np_utils.to_categorical(y_train)"
      ],
      "execution_count": 15,
      "outputs": []
    },
    {
      "cell_type": "code",
      "metadata": {
        "colab": {
          "base_uri": "https://localhost:8080/"
        },
        "id": "GDN-3_shUhNW",
        "outputId": "05e42c17-eece-4c2e-ad47-ed14d17e064f"
      },
      "source": [
        "y_train[:5]"
      ],
      "execution_count": 16,
      "outputs": [
        {
          "output_type": "execute_result",
          "data": {
            "text/plain": [
              "array([[0., 0., 0., 0., 0., 1., 0., 0., 0., 0.],\n",
              "       [1., 0., 0., 0., 0., 0., 0., 0., 0., 0.],\n",
              "       [0., 0., 0., 0., 1., 0., 0., 0., 0., 0.],\n",
              "       [0., 1., 0., 0., 0., 0., 0., 0., 0., 0.],\n",
              "       [0., 0., 0., 0., 0., 0., 0., 0., 0., 1.]], dtype=float32)"
            ]
          },
          "metadata": {
            "tags": []
          },
          "execution_count": 16
        }
      ]
    },
    {
      "cell_type": "code",
      "metadata": {
        "colab": {
          "base_uri": "https://localhost:8080/"
        },
        "id": "stlJH1NYUi5e",
        "outputId": "8343afb2-c813-4429-dde1-45539643ded8"
      },
      "source": [
        "from keras.models import  Sequential\r\n",
        "from keras.layers import Dense\r\n",
        "model = Sequential()\r\n",
        "model.add(Dense(units=256, input_dim=784, activation='relu'))\r\n",
        "# 使用 softmax activation function ，將結果分成10類\r\n",
        "model.add(Dense(units=10, activation='softmax'))\r\n",
        "print(model.summary())\r\n",
        "# 200960 = 784*256+256\r\n",
        "# 2570 = 256*10+10"
      ],
      "execution_count": 17,
      "outputs": [
        {
          "output_type": "stream",
          "text": [
            "Model: \"sequential\"\n",
            "_________________________________________________________________\n",
            "Layer (type)                 Output Shape              Param #   \n",
            "=================================================================\n",
            "dense (Dense)                (None, 256)               200960    \n",
            "_________________________________________________________________\n",
            "dense_1 (Dense)              (None, 10)                2570      \n",
            "=================================================================\n",
            "Total params: 203,530\n",
            "Trainable params: 203,530\n",
            "Non-trainable params: 0\n",
            "_________________________________________________________________\n",
            "None\n"
          ],
          "name": "stdout"
        }
      ]
    },
    {
      "cell_type": "code",
      "metadata": {
        "colab": {
          "base_uri": "https://localhost:8080/"
        },
        "id": "edru380FUkxY",
        "outputId": "093f1a97-c157-4d95-c609-f05fccc00c5f"
      },
      "source": [
        "# 分類問題 -> cross entropy  optimizer -> adam演算法 \r\n",
        "# 抽出20%資料做驗證資料 8:2\r\n",
        "# accuracy -> training 正確率 val_accuracy -> 驗證資料 正確率\r\n",
        "model.compile(loss='categorical_crossentropy', optimizer='adam', metrics=['accuracy'])\r\n",
        "train_history= model.fit(x=x_train, y=y_train, validation_split=0.2, epochs=12, batch_size=128, verbose=2)"
      ],
      "execution_count": 18,
      "outputs": [
        {
          "output_type": "stream",
          "text": [
            "Epoch 1/12\n",
            "375/375 - 2s - loss: 0.3454 - accuracy: 0.9035 - val_loss: 0.1812 - val_accuracy: 0.9487\n",
            "Epoch 2/12\n",
            "375/375 - 2s - loss: 0.1484 - accuracy: 0.9584 - val_loss: 0.1297 - val_accuracy: 0.9632\n",
            "Epoch 3/12\n",
            "375/375 - 2s - loss: 0.1027 - accuracy: 0.9706 - val_loss: 0.1133 - val_accuracy: 0.9670\n",
            "Epoch 4/12\n",
            "375/375 - 2s - loss: 0.0771 - accuracy: 0.9782 - val_loss: 0.0998 - val_accuracy: 0.9711\n",
            "Epoch 5/12\n",
            "375/375 - 2s - loss: 0.0594 - accuracy: 0.9833 - val_loss: 0.0905 - val_accuracy: 0.9731\n",
            "Epoch 6/12\n",
            "375/375 - 2s - loss: 0.0461 - accuracy: 0.9872 - val_loss: 0.0896 - val_accuracy: 0.9738\n",
            "Epoch 7/12\n",
            "375/375 - 2s - loss: 0.0378 - accuracy: 0.9899 - val_loss: 0.0835 - val_accuracy: 0.9750\n",
            "Epoch 8/12\n",
            "375/375 - 2s - loss: 0.0295 - accuracy: 0.9925 - val_loss: 0.0829 - val_accuracy: 0.9762\n",
            "Epoch 9/12\n",
            "375/375 - 2s - loss: 0.0233 - accuracy: 0.9942 - val_loss: 0.0780 - val_accuracy: 0.9771\n",
            "Epoch 10/12\n",
            "375/375 - 2s - loss: 0.0187 - accuracy: 0.9959 - val_loss: 0.0846 - val_accuracy: 0.9764\n",
            "Epoch 11/12\n",
            "375/375 - 2s - loss: 0.0152 - accuracy: 0.9967 - val_loss: 0.0816 - val_accuracy: 0.9778\n",
            "Epoch 12/12\n",
            "375/375 - 2s - loss: 0.0119 - accuracy: 0.9980 - val_loss: 0.0835 - val_accuracy: 0.9758\n"
          ],
          "name": "stdout"
        }
      ]
    },
    {
      "cell_type": "code",
      "metadata": {
        "colab": {
          "base_uri": "https://localhost:8080/",
          "height": 295
        },
        "id": "d-7a-OStUmyW",
        "outputId": "fb0fb09e-4a8a-42fb-cab3-56128ee4b24e"
      },
      "source": [
        "plt.plot(train_history.history['accuracy'])\r\n",
        "plt.title('Train History')\r\n",
        "plt.ylabel('Accuracy')\r\n",
        "plt.xlabel('Eopch')\r\n",
        "plt.show()"
      ],
      "execution_count": 19,
      "outputs": [
        {
          "output_type": "display_data",
          "data": {
            "image/png": "[encoded data removed]",
            "text/plain": [
              "<Figure size 432x288 with 1 Axes>"
            ]
          },
          "metadata": {
            "tags": [],
            "needs_background": "light"
          }
        }
      ]
    },
    {
      "cell_type": "code",
      "metadata": {
        "colab": {
          "base_uri": "https://localhost:8080/",
          "height": 295
        },
        "id": "gA2s0AjxUpsF",
        "outputId": "349db994-e623-4d3d-997b-545c1d3912dd"
      },
      "source": [
        "plt.plot(train_history.history['loss'])  \r\n",
        "plt.plot(train_history.history['val_loss'])  \r\n",
        "plt.title('Train History')  \r\n",
        "plt.ylabel('loss')  \r\n",
        "plt.xlabel('Epoch')  \r\n",
        "plt.legend(['loss', 'val_loss'], loc='upper left')  \r\n",
        "plt.show() "
      ],
      "execution_count": 20,
      "outputs": [
        {
          "output_type": "display_data",
          "data": {
            "image/png": "[encoded data removed]",
            "text/plain": [
              "<Figure size 432x288 with 1 Axes>"
            ]
          },
          "metadata": {
            "tags": [],
            "needs_background": "light"
          }
        }
      ]
    },
    {
      "cell_type": "code",
      "metadata": {
        "colab": {
          "base_uri": "https://localhost:8080/"
        },
        "id": "Lh00O9alUsdf",
        "outputId": "ac9dbf3f-788e-4ce5-b4a3-d12d4a641c19"
      },
      "source": [
        "print(train_history.history)"
      ],
      "execution_count": 21,
      "outputs": [
        {
          "output_type": "stream",
          "text": [
            "{'loss': [0.34539929032325745, 0.14842133224010468, 0.10273627936840057, 0.0771254375576973, 0.059385523200035095, 0.04605554789304733, 0.03780842199921608, 0.029521843418478966, 0.02330898866057396, 0.01869339309632778, 0.015221279114484787, 0.01185416430234909], 'accuracy': [0.9034583568572998, 0.9584375023841858, 0.9706249833106995, 0.9782291650772095, 0.9832708239555359, 0.9872291684150696, 0.9899166822433472, 0.992479145526886, 0.9942291378974915, 0.9958541393280029, 0.996708333492279, 0.9979791641235352], 'val_loss': [0.18121013045310974, 0.1297021359205246, 0.11334404349327087, 0.0997696965932846, 0.090540312230587, 0.08957978338003159, 0.08353995531797409, 0.08285848796367645, 0.07804658263921738, 0.08462940156459808, 0.08163215965032578, 0.0835043415427208], 'val_accuracy': [0.9486666917800903, 0.9631666541099548, 0.9670000076293945, 0.9710833430290222, 0.9730833172798157, 0.9738333225250244, 0.9750000238418579, 0.9761666655540466, 0.9770833253860474, 0.9764166474342346, 0.9777500033378601, 0.9757500290870667]}\n"
          ],
          "name": "stdout"
        }
      ]
    },
    {
      "cell_type": "code",
      "metadata": {
        "colab": {
          "base_uri": "https://localhost:8080/",
          "height": 390
        },
        "id": "q5xp3W7DU5WG",
        "outputId": "969ea335-1cfd-42f7-94c5-7f2d1c10556e"
      },
      "source": [
        "# 混淆矩陣 Confusion matrix\r\n",
        "import pandas as pd\r\n",
        "pd.crosstab(y_test, prediction, rownames=['label'], colnames=['predict'])"
      ],
      "execution_count": 23,
      "outputs": [
        {
          "output_type": "execute_result",
          "data": {
            "text/html": [
              "<div>\n",
              "<style scoped>\n",
              "    .dataframe tbody tr th:only-of-type {\n",
              "        vertical-align: middle;\n",
              "    }\n",
              "\n",
              "    .dataframe tbody tr th {\n",
              "        vertical-align: top;\n",
              "    }\n",
              "\n",
              "    .dataframe thead th {\n",
              "        text-align: right;\n",
              "    }\n",
              "</style>\n",
              "<table border=\"1\" class=\"dataframe\">\n",
              "  <thead>\n",
              "    <tr style=\"text-align: right;\">\n",
              "      <th>predict</th>\n",
              "      <th>0</th>\n",
              "      <th>1</th>\n",
              "      <th>2</th>\n",
              "      <th>3</th>\n",
              "      <th>4</th>\n",
              "      <th>5</th>\n",
              "      <th>6</th>\n",
              "      <th>7</th>\n",
              "      <th>8</th>\n",
              "      <th>9</th>\n",
              "    </tr>\n",
              "    <tr>\n",
              "      <th>label</th>\n",
              "      <th></th>\n",
              "      <th></th>\n",
              "      <th></th>\n",
              "      <th></th>\n",
              "      <th></th>\n",
              "      <th></th>\n",
              "      <th></th>\n",
              "      <th></th>\n",
              "      <th></th>\n",
              "      <th></th>\n",
              "    </tr>\n",
              "  </thead>\n",
              "  <tbody>\n",
              "    <tr>\n",
              "      <th>0</th>\n",
              "      <td>973</td>\n",
              "      <td>0</td>\n",
              "      <td>1</td>\n",
              "      <td>1</td>\n",
              "      <td>0</td>\n",
              "      <td>0</td>\n",
              "      <td>2</td>\n",
              "      <td>1</td>\n",
              "      <td>1</td>\n",
              "      <td>1</td>\n",
              "    </tr>\n",
              "    <tr>\n",
              "      <th>1</th>\n",
              "      <td>0</td>\n",
              "      <td>1122</td>\n",
              "      <td>4</td>\n",
              "      <td>0</td>\n",
              "      <td>0</td>\n",
              "      <td>1</td>\n",
              "      <td>2</td>\n",
              "      <td>0</td>\n",
              "      <td>6</td>\n",
              "      <td>0</td>\n",
              "    </tr>\n",
              "    <tr>\n",
              "      <th>2</th>\n",
              "      <td>7</td>\n",
              "      <td>2</td>\n",
              "      <td>1005</td>\n",
              "      <td>1</td>\n",
              "      <td>1</td>\n",
              "      <td>0</td>\n",
              "      <td>2</td>\n",
              "      <td>5</td>\n",
              "      <td>9</td>\n",
              "      <td>0</td>\n",
              "    </tr>\n",
              "    <tr>\n",
              "      <th>3</th>\n",
              "      <td>0</td>\n",
              "      <td>1</td>\n",
              "      <td>6</td>\n",
              "      <td>966</td>\n",
              "      <td>0</td>\n",
              "      <td>20</td>\n",
              "      <td>0</td>\n",
              "      <td>5</td>\n",
              "      <td>7</td>\n",
              "      <td>5</td>\n",
              "    </tr>\n",
              "    <tr>\n",
              "      <th>4</th>\n",
              "      <td>1</td>\n",
              "      <td>0</td>\n",
              "      <td>2</td>\n",
              "      <td>1</td>\n",
              "      <td>961</td>\n",
              "      <td>0</td>\n",
              "      <td>2</td>\n",
              "      <td>1</td>\n",
              "      <td>2</td>\n",
              "      <td>12</td>\n",
              "    </tr>\n",
              "    <tr>\n",
              "      <th>5</th>\n",
              "      <td>2</td>\n",
              "      <td>0</td>\n",
              "      <td>0</td>\n",
              "      <td>2</td>\n",
              "      <td>1</td>\n",
              "      <td>881</td>\n",
              "      <td>2</td>\n",
              "      <td>0</td>\n",
              "      <td>3</td>\n",
              "      <td>1</td>\n",
              "    </tr>\n",
              "    <tr>\n",
              "      <th>6</th>\n",
              "      <td>7</td>\n",
              "      <td>2</td>\n",
              "      <td>1</td>\n",
              "      <td>1</td>\n",
              "      <td>3</td>\n",
              "      <td>9</td>\n",
              "      <td>934</td>\n",
              "      <td>0</td>\n",
              "      <td>1</td>\n",
              "      <td>0</td>\n",
              "    </tr>\n",
              "    <tr>\n",
              "      <th>7</th>\n",
              "      <td>1</td>\n",
              "      <td>4</td>\n",
              "      <td>5</td>\n",
              "      <td>1</td>\n",
              "      <td>0</td>\n",
              "      <td>0</td>\n",
              "      <td>0</td>\n",
              "      <td>1004</td>\n",
              "      <td>4</td>\n",
              "      <td>9</td>\n",
              "    </tr>\n",
              "    <tr>\n",
              "      <th>8</th>\n",
              "      <td>6</td>\n",
              "      <td>0</td>\n",
              "      <td>1</td>\n",
              "      <td>3</td>\n",
              "      <td>0</td>\n",
              "      <td>1</td>\n",
              "      <td>2</td>\n",
              "      <td>2</td>\n",
              "      <td>954</td>\n",
              "      <td>5</td>\n",
              "    </tr>\n",
              "    <tr>\n",
              "      <th>9</th>\n",
              "      <td>3</td>\n",
              "      <td>2</td>\n",
              "      <td>0</td>\n",
              "      <td>2</td>\n",
              "      <td>7</td>\n",
              "      <td>5</td>\n",
              "      <td>0</td>\n",
              "      <td>2</td>\n",
              "      <td>4</td>\n",
              "      <td>984</td>\n",
              "    </tr>\n",
              "  </tbody>\n",
              "</table>\n",
              "</div>"
            ],
            "text/plain": [
              "predict    0     1     2    3    4    5    6     7    8    9\n",
              "label                                                       \n",
              "0        973     0     1    1    0    0    2     1    1    1\n",
              "1          0  1122     4    0    0    1    2     0    6    0\n",
              "2          7     2  1005    1    1    0    2     5    9    0\n",
              "3          0     1     6  966    0   20    0     5    7    5\n",
              "4          1     0     2    1  961    0    2     1    2   12\n",
              "5          2     0     0    2    1  881    2     0    3    1\n",
              "6          7     2     1    1    3    9  934     0    1    0\n",
              "7          1     4     5    1    0    0    0  1004    4    9\n",
              "8          6     0     1    3    0    1    2     2  954    5\n",
              "9          3     2     0    2    7    5    0     2    4  984"
            ]
          },
          "metadata": {
            "tags": []
          },
          "execution_count": 23
        }
      ]
    },
    {
      "cell_type": "code",
      "metadata": {
        "colab": {
          "base_uri": "https://localhost:8080/"
        },
        "id": "Gt4iaqsnU7wn",
        "outputId": "7f1db367-5132-448e-a77f-7b02cb01d67c"
      },
      "source": [
        "y_test = np_utils.to_categorical(y_test)\r\n",
        "loss, accuracy = model.evaluate(x_test, y_test,verbose=1)\r\n",
        "print('Test loss:', loss)\r\n",
        "print('Test accuracy:', accuracy)"
      ],
      "execution_count": 24,
      "outputs": [
        {
          "output_type": "stream",
          "text": [
            "313/313 [==============================] - 0s 1ms/step - loss: 0.0696 - accuracy: 0.9784\n",
            "Test loss: 0.06956961005926132\n",
            "Test accuracy: 0.9783999919891357\n"
          ],
          "name": "stdout"
        }
      ]
    }
  ]
}